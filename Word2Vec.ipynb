{
  "nbformat": 4,
  "nbformat_minor": 0,
  "metadata": {
    "colab": {
      "provenance": []
    },
    "kernelspec": {
      "name": "python3",
      "display_name": "Python 3"
    },
    "language_info": {
      "name": "python"
    }
  },
  "cells": [
    {
      "cell_type": "code",
      "source": [
        "!pip install gensim # Instalamos la biblioteca de python para el PLN"
      ],
      "metadata": {
        "id": "JV-DLbFpBSrk",
        "colab": {
          "base_uri": "https://localhost:8080/"
        },
        "outputId": "43f586e4-e916-4699-f0ab-9aeff9693345"
      },
      "execution_count": 1,
      "outputs": [
        {
          "output_type": "stream",
          "name": "stdout",
          "text": [
            "Requirement already satisfied: gensim in /usr/local/lib/python3.12/dist-packages (4.4.0)\n",
            "Requirement already satisfied: numpy>=1.18.5 in /usr/local/lib/python3.12/dist-packages (from gensim) (2.0.2)\n",
            "Requirement already satisfied: scipy>=1.7.0 in /usr/local/lib/python3.12/dist-packages (from gensim) (1.16.2)\n",
            "Requirement already satisfied: smart_open>=1.8.1 in /usr/local/lib/python3.12/dist-packages (from gensim) (7.4.0)\n",
            "Requirement already satisfied: wrapt in /usr/local/lib/python3.12/dist-packages (from smart_open>=1.8.1->gensim) (2.0.0)\n"
          ]
        }
      ]
    },
    {
      "cell_type": "code",
      "source": [
        "from gensim.models import KeyedVectors # Almacena y/o consulta vectores de palabras\n",
        "from gensim.downloader import load # Sirve para cargar modelos pre-entrenados\n",
        "\n",
        "# Cargamos el modelo GloVw similar a Word2Vec (160 MB)\n",
        "model = load('glove-wiki-gigaword-100') # Contiene 100 dimensiones"
      ],
      "metadata": {
        "id": "V-HcmtrtOXjX"
      },
      "execution_count": 2,
      "outputs": []
    },
    {
      "cell_type": "code",
      "source": [
        "# Obtenemos el embedding de una palabra\n",
        "word = \"king\" # El modelo solo admite palabras en inglés porque fue entrenado de esa manera\n",
        "vector = model[word] # Le pasamos nuestra palabra al modelo y nos devuelve el vector correspondiente a esa palabra\n",
        "\n",
        "# Imprimimos algunos resultados\n",
        "print(f\"Vector de '{word}':\\n\", vector)\n",
        "print(f\"Dimensiones: {len(vector)}\")"
      ],
      "metadata": {
        "colab": {
          "base_uri": "https://localhost:8080/"
        },
        "id": "ltBGvIizQdLh",
        "outputId": "2ca1f9e6-c337-4518-cbdc-db7b190b097e"
      },
      "execution_count": 3,
      "outputs": [
        {
          "output_type": "stream",
          "name": "stdout",
          "text": [
            "Vector de 'king':\n",
            " [-0.32307  -0.87616   0.21977   0.25268   0.22976   0.7388   -0.37954\n",
            " -0.35307  -0.84369  -1.1113   -0.30266   0.33178  -0.25113   0.30448\n",
            " -0.077491 -0.89815   0.092496 -1.1407   -0.58324   0.66869  -0.23122\n",
            " -0.95855   0.28262  -0.078848  0.75315   0.26584   0.3422   -0.33949\n",
            "  0.95608   0.065641  0.45747   0.39835   0.57965   0.39267  -0.21851\n",
            "  0.58795  -0.55999   0.63368  -0.043983 -0.68731  -0.37841   0.38026\n",
            "  0.61641  -0.88269  -0.12346  -0.37928  -0.38318   0.23868   0.6685\n",
            " -0.43321  -0.11065   0.081723  1.1569    0.78958  -0.21223  -2.3211\n",
            " -0.67806   0.44561   0.65707   0.1045    0.46217   0.19912   0.25802\n",
            "  0.057194  0.53443  -0.43133  -0.34311   0.59789  -0.58417   0.068995\n",
            "  0.23944  -0.85181   0.30379  -0.34177  -0.25746  -0.031101 -0.16285\n",
            "  0.45169  -0.91627   0.64521   0.73281  -0.22752   0.30226   0.044801\n",
            " -0.83741   0.55006  -0.52506  -1.7357    0.4751   -0.70487   0.056939\n",
            " -0.7132    0.089623  0.41394  -1.3363   -0.61915  -0.33089  -0.52881\n",
            "  0.16483  -0.98878 ]\n",
            "Dimensiones: 100\n"
          ]
        }
      ]
    },
    {
      "cell_type": "code",
      "source": [
        "model.most_similar(word) # Calculamos las palabras están más relacionadas con nuestra palabra indicada"
      ],
      "metadata": {
        "colab": {
          "base_uri": "https://localhost:8080/"
        },
        "id": "UpFz8QCcRdhb",
        "outputId": "9f6a108f-13c5-437c-cc3a-fbe5f41667f0"
      },
      "execution_count": 4,
      "outputs": [
        {
          "output_type": "execute_result",
          "data": {
            "text/plain": [
              "[('prince', 0.7682328820228577),\n",
              " ('queen', 0.7507690787315369),\n",
              " ('son', 0.7020888328552246),\n",
              " ('brother', 0.6985775232315063),\n",
              " ('monarch', 0.6977890729904175),\n",
              " ('throne', 0.6919989585876465),\n",
              " ('kingdom', 0.6811409592628479),\n",
              " ('father', 0.6802029013633728),\n",
              " ('emperor', 0.6712858080863953),\n",
              " ('ii', 0.6676074266433716)]"
            ]
          },
          "metadata": {},
          "execution_count": 4
        }
      ]
    },
    {
      "cell_type": "code",
      "source": [
        "# Seleccionamos palabras al azar y proyectamos a 2D para visualizar sus relaciones\n",
        "from sklearn.decomposition import PCA # Nos servirá para la reducción de dimensionalidad\n",
        "import matplotlib.pyplot as plt # Biblioteca útil para graficar los embeddings\n",
        "\n",
        "words = [\"king\", \"queen\", \"man\", \"woman\", \"dog\", \"cat\", \"kitten\"] # Palabras\n",
        "vectors = [model[w] for w in words] # Obtenemos el vector resulante de cada una de las palabras que indicamos\n",
        "\n",
        "# Reducimos las dimensiones: 100D -> 2D\n",
        "pca = PCA(n_components = 2)\n",
        "reduc = pca.fit_transform(vectors)\n",
        "\n",
        "# Graficamos\n",
        "plt.figure(figsize = (8, 6))\n",
        "for i, word in enumerate(words):\n",
        "  x, y = reduc[i]\n",
        "  plt.scatter(x, y)\n",
        "  plt.text(x + 0.04, y + 0.04, word)\n",
        "plt.title(\"Visualización del Word Embeddings\")\n",
        "plt.show()"
      ],
      "metadata": {
        "colab": {
          "base_uri": "https://localhost:8080/",
          "height": 545
        },
        "id": "xd4QdTgpR25v",
        "outputId": "54289056-8ddc-4e19-c1b7-2acbbf8a6f05"
      },
      "execution_count": 5,
      "outputs": [
        {
          "output_type": "display_data",
          "data": {
            "text/plain": [
              "<Figure size 800x600 with 1 Axes>"
            ],
            "image/png": "[encoded data removed]"
          },
          "metadata": {}
        }
      ]
    },
    {
      "cell_type": "code",
      "source": [
        "result = model.most_similar(positive = [\"king\", \"woman\"], negative = [\"man\"])\n",
        "print(result)"
      ],
      "metadata": {
        "colab": {
          "base_uri": "https://localhost:8080/"
        },
        "id": "FVahA6UgTFee",
        "outputId": "491163c7-930f-41ea-9cda-d4a9b711579f"
      },
      "execution_count": 6,
      "outputs": [
        {
          "output_type": "stream",
          "name": "stdout",
          "text": [
            "[('queen', 0.7698540687561035), ('monarch', 0.6843381524085999), ('throne', 0.6755736470222473), ('daughter', 0.6594556570053101), ('princess', 0.6520534157752991), ('prince', 0.6517034769058228), ('elizabeth', 0.6464517712593079), ('mother', 0.631171703338623), ('emperor', 0.6106470823287964), ('wife', 0.6098655462265015)]\n"
          ]
        }
      ]
    },
    {
      "cell_type": "markdown",
      "source": [
        "## **La lógica es la siguiente:**\n",
        "\n",
        "- positive = [\"king\", \"woman\"]: El modelo suma los vectores de king (rey) y woman (mujer)  \n",
        "- negative = [\"man\"]: Luego, resta el vector de man (hombre) de esa suma\n",
        "\n",
        "## **La idea es la siguiente:**\n",
        "- vector(\"king\") - vector(\"man\") = vector(\"realeza\") (Se elimina el concepto masculino)  \n",
        "  \n",
        "- vector(\"realeza\") + vector(\"woman\") = vector(\"reina\") (Se añade el concepto de femenino a realeza)  \n",
        "  \n",
        "El resultado es que devuelve una lista de tuplas cuyo vector es más cercano al resultado de esa operación"
      ],
      "metadata": {
        "id": "MN4ZXDu9Xwgb"
      }
    },
    {
      "cell_type": "code",
      "source": [],
      "metadata": {
        "id": "k_Ga3WxQY_XP"
      },
      "execution_count": null,
      "outputs": []
    }
  ]
}